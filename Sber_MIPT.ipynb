{
 "cells": [
  {
   "cell_type": "markdown",
   "metadata": {
    "id": "1hcMWSaRayB0"
   },
   "source": [
    "# Обучаем простой бейзлайн с использованием транзакционной модальности"
   ]
  },
  {
   "cell_type": "code",
   "execution_count": 1,
   "metadata": {
    "execution": {
     "iopub.execute_input": "2024-07-04T12:37:38.161647Z",
     "iopub.status.busy": "2024-07-04T12:37:38.160995Z",
     "iopub.status.idle": "2024-07-04T12:37:39.069616Z",
     "shell.execute_reply": "2024-07-04T12:37:39.068890Z",
     "shell.execute_reply.started": "2024-07-04T12:37:38.161620Z"
    },
    "id": "RwTNhASoa3Te",
    "tags": []
   },
   "outputs": [],
   "source": [
    "from sklearn.model_selection import train_test_split\n",
    "from sklearn.metrics import roc_auc_score\n",
    "import pandas as pd\n",
    "from lightgbm import LGBMClassifier, Dataset\n",
    "import lightgbm\n",
    "import datetime\n",
    "import pickle\n",
    "import numpy as np\n",
    "import polars as pl\n",
    "\n",
    "RS = 2024\n",
    "DATA_PATH = \"/home/jupyter/datasphere/project/Sber/iProf\""
   ]
  },
  {
   "cell_type": "code",
   "execution_count": 2,
   "metadata": {
    "colab": {
     "base_uri": "https://localhost:8080/",
     "height": 142
    },
    "execution": {
     "iopub.execute_input": "2024-07-04T12:37:39.071621Z",
     "iopub.status.busy": "2024-07-04T12:37:39.070924Z",
     "iopub.status.idle": "2024-07-04T12:37:41.494520Z",
     "shell.execute_reply": "2024-07-04T12:37:41.493226Z",
     "shell.execute_reply.started": "2024-07-04T12:37:39.071595Z"
    },
    "id": "2aPZtPdqa5r3",
    "outputId": "c2202f20-d938-49a9-8d4a-faa57994489b",
    "tags": []
   },
   "outputs": [],
   "source": [
    "# Загружаем данные для обучения\n",
    "\n",
    "target_train = pl.read_parquet(f'{DATA_PATH}/train_target.parquet')\n",
    "trx_train = pl.read_parquet(f'{DATA_PATH}/trx_train.parquet')\n",
    "geo_train = pl.read_parquet(f'{DATA_PATH}/geo_train.parquet')\n",
    "dial_train = pl.read_parquet(f'{DATA_PATH}/dial_train.parquet')\n"
   ]
  },
  {
   "cell_type": "code",
   "execution_count": 3,
   "metadata": {
    "colab": {
     "base_uri": "https://localhost:8080/"
    },
    "execution": {
     "iopub.execute_input": "2024-07-04T12:37:41.497300Z",
     "iopub.status.busy": "2024-07-04T12:37:41.496353Z",
     "iopub.status.idle": "2024-07-04T12:37:41.612851Z",
     "shell.execute_reply": "2024-07-04T12:37:41.612132Z",
     "shell.execute_reply.started": "2024-07-04T12:37:41.497259Z"
    },
    "id": "8NkSMLMHa-q6",
    "outputId": "f2e58915-80d5-459b-b6c0-3c016a3bd0af",
    "tags": []
   },
   "outputs": [
    {
     "data": {
      "text/plain": [
       "170778"
      ]
     },
     "execution_count": 3,
     "metadata": {},
     "output_type": "execute_result"
    }
   ],
   "source": [
    "len(target_train.select(pl.col('client_id')).unique())"
   ]
  },
  {
   "cell_type": "markdown",
   "metadata": {},
   "source": [
    "# Transaction"
   ]
  },
  {
   "cell_type": "code",
   "execution_count": 4,
   "metadata": {
    "execution": {
     "iopub.execute_input": "2024-07-04T12:37:41.614781Z",
     "iopub.status.busy": "2024-07-04T12:37:41.614280Z",
     "iopub.status.idle": "2024-07-04T12:37:42.557767Z",
     "shell.execute_reply": "2024-07-04T12:37:42.557012Z",
     "shell.execute_reply.started": "2024-07-04T12:37:41.614759Z"
    },
    "tags": []
   },
   "outputs": [
    {
     "data": {
      "text/html": [
       "<div><style>\n",
       ".dataframe > thead > tr,\n",
       ".dataframe > tbody > tr {\n",
       "  text-align: right;\n",
       "  white-space: pre-wrap;\n",
       "}\n",
       "</style>\n",
       "<small>shape: (25_182_642, 15)</small><table border=\"1\" class=\"dataframe\"><thead><tr><th>event_time</th><th>amount</th><th>client_id</th><th>event_type</th><th>event_subtype</th><th>currency</th><th>src_type11</th><th>src_type12</th><th>dst_type11</th><th>dst_type12</th><th>src_type21</th><th>src_type22</th><th>src_type31</th><th>src_type32</th><th>mon</th></tr><tr><td>date</td><td>f32</td><td>str</td><td>i32</td><td>i32</td><td>f64</td><td>f64</td><td>f64</td><td>f64</td><td>f64</td><td>f64</td><td>f64</td><td>f64</td><td>f64</td><td>i64</td></tr></thead><tbody><tr><td>2022-01-18</td><td>1.22203</td><td>&quot;522256f58adeaf13fbf098859fe562…</td><td>40</td><td>51</td><td>11.0</td><td>72.0</td><td>189.0</td><td>433.0</td><td>10049.0</td><td>29715.0</td><td>10.0</td><td>814.0</td><td>26.0</td><td>1</td></tr><tr><td>2022-01-16</td><td>7963.970703</td><td>&quot;522256f58adeaf13fbf098859fe562…</td><td>40</td><td>51</td><td>11.0</td><td>72.0</td><td>189.0</td><td>433.0</td><td>10049.0</td><td>29715.0</td><td>10.0</td><td>814.0</td><td>26.0</td><td>1</td></tr><tr><td>2022-01-07</td><td>363.814209</td><td>&quot;522256f58adeaf13fbf098859fe562…</td><td>35</td><td>5</td><td>11.0</td><td>19.0</td><td>344.0</td><td>1121.0</td><td>8945.0</td><td>29715.0</td><td>10.0</td><td>814.0</td><td>26.0</td><td>1</td></tr><tr><td>2022-01-16</td><td>16164.658203</td><td>&quot;522256f58adeaf13fbf098859fe562…</td><td>52</td><td>12</td><td>11.0</td><td>128.0</td><td>456.0</td><td>1302.0</td><td>8693.0</td><td>29715.0</td><td>10.0</td><td>814.0</td><td>26.0</td><td>1</td></tr><tr><td>2022-01-19</td><td>31682.630859</td><td>&quot;522256f58adeaf13fbf098859fe562…</td><td>52</td><td>12</td><td>11.0</td><td>128.0</td><td>456.0</td><td>1302.0</td><td>8693.0</td><td>29715.0</td><td>10.0</td><td>814.0</td><td>26.0</td><td>1</td></tr><tr><td>&hellip;</td><td>&hellip;</td><td>&hellip;</td><td>&hellip;</td><td>&hellip;</td><td>&hellip;</td><td>&hellip;</td><td>&hellip;</td><td>&hellip;</td><td>&hellip;</td><td>&hellip;</td><td>&hellip;</td><td>&hellip;</td><td>&hellip;</td><td>&hellip;</td></tr><tr><td>2022-09-05</td><td>14250.209961</td><td>&quot;2fc07b1747c11b5688e04a854160fd…</td><td>41</td><td>10</td><td>11.0</td><td>19.0</td><td>344.0</td><td>1166.0</td><td>30836.0</td><td>42730.0</td><td>24.0</td><td>1476.0</td><td>55.0</td><td>9</td></tr><tr><td>2022-09-13</td><td>19039.734375</td><td>&quot;2fc07b1747c11b5688e04a854160fd…</td><td>41</td><td>10</td><td>11.0</td><td>19.0</td><td>344.0</td><td>1166.0</td><td>30836.0</td><td>42730.0</td><td>24.0</td><td>1476.0</td><td>55.0</td><td>9</td></tr><tr><td>2022-09-18</td><td>5808.522949</td><td>&quot;2fc07b1747c11b5688e04a854160fd…</td><td>41</td><td>10</td><td>11.0</td><td>19.0</td><td>344.0</td><td>1166.0</td><td>30836.0</td><td>42730.0</td><td>24.0</td><td>1476.0</td><td>55.0</td><td>9</td></tr><tr><td>2022-09-17</td><td>21264.791016</td><td>&quot;2fc07b1747c11b5688e04a854160fd…</td><td>41</td><td>10</td><td>11.0</td><td>19.0</td><td>344.0</td><td>1166.0</td><td>30836.0</td><td>42730.0</td><td>24.0</td><td>1476.0</td><td>55.0</td><td>9</td></tr><tr><td>2022-09-03</td><td>6307.92627</td><td>&quot;2fc07b1747c11b5688e04a854160fd…</td><td>41</td><td>10</td><td>11.0</td><td>19.0</td><td>344.0</td><td>1166.0</td><td>30836.0</td><td>42730.0</td><td>24.0</td><td>1476.0</td><td>55.0</td><td>9</td></tr></tbody></table></div>"
      ],
      "text/plain": [
       "shape: (25_182_642, 15)\n",
       "┌────────────┬────────────┬────────────┬────────────┬───┬────────────┬───────────┬───────────┬─────┐\n",
       "│ event_time ┆ amount     ┆ client_id  ┆ event_type ┆ … ┆ src_type22 ┆ src_type3 ┆ src_type3 ┆ mon │\n",
       "│ ---        ┆ ---        ┆ ---        ┆ ---        ┆   ┆ ---        ┆ 1         ┆ 2         ┆ --- │\n",
       "│ date       ┆ f32        ┆ str        ┆ i32        ┆   ┆ f64        ┆ ---       ┆ ---       ┆ i64 │\n",
       "│            ┆            ┆            ┆            ┆   ┆            ┆ f64       ┆ f64       ┆     │\n",
       "╞════════════╪════════════╪════════════╪════════════╪═══╪════════════╪═══════════╪═══════════╪═════╡\n",
       "│ 2022-01-18 ┆ 1.22203    ┆ 522256f58a ┆ 40         ┆ … ┆ 10.0       ┆ 814.0     ┆ 26.0      ┆ 1   │\n",
       "│            ┆            ┆ deaf13fbf0 ┆            ┆   ┆            ┆           ┆           ┆     │\n",
       "│            ┆            ┆ 98859fe562 ┆            ┆   ┆            ┆           ┆           ┆     │\n",
       "│            ┆            ┆ …          ┆            ┆   ┆            ┆           ┆           ┆     │\n",
       "│ 2022-01-16 ┆ 7963.97070 ┆ 522256f58a ┆ 40         ┆ … ┆ 10.0       ┆ 814.0     ┆ 26.0      ┆ 1   │\n",
       "│            ┆ 3          ┆ deaf13fbf0 ┆            ┆   ┆            ┆           ┆           ┆     │\n",
       "│            ┆            ┆ 98859fe562 ┆            ┆   ┆            ┆           ┆           ┆     │\n",
       "│            ┆            ┆ …          ┆            ┆   ┆            ┆           ┆           ┆     │\n",
       "│ 2022-01-07 ┆ 363.814209 ┆ 522256f58a ┆ 35         ┆ … ┆ 10.0       ┆ 814.0     ┆ 26.0      ┆ 1   │\n",
       "│            ┆            ┆ deaf13fbf0 ┆            ┆   ┆            ┆           ┆           ┆     │\n",
       "│            ┆            ┆ 98859fe562 ┆            ┆   ┆            ┆           ┆           ┆     │\n",
       "│            ┆            ┆ …          ┆            ┆   ┆            ┆           ┆           ┆     │\n",
       "│ 2022-01-16 ┆ 16164.6582 ┆ 522256f58a ┆ 52         ┆ … ┆ 10.0       ┆ 814.0     ┆ 26.0      ┆ 1   │\n",
       "│            ┆ 03         ┆ deaf13fbf0 ┆            ┆   ┆            ┆           ┆           ┆     │\n",
       "│            ┆            ┆ 98859fe562 ┆            ┆   ┆            ┆           ┆           ┆     │\n",
       "│            ┆            ┆ …          ┆            ┆   ┆            ┆           ┆           ┆     │\n",
       "│ 2022-01-19 ┆ 31682.6308 ┆ 522256f58a ┆ 52         ┆ … ┆ 10.0       ┆ 814.0     ┆ 26.0      ┆ 1   │\n",
       "│            ┆ 59         ┆ deaf13fbf0 ┆            ┆   ┆            ┆           ┆           ┆     │\n",
       "│            ┆            ┆ 98859fe562 ┆            ┆   ┆            ┆           ┆           ┆     │\n",
       "│            ┆            ┆ …          ┆            ┆   ┆            ┆           ┆           ┆     │\n",
       "│ …          ┆ …          ┆ …          ┆ …          ┆ … ┆ …          ┆ …         ┆ …         ┆ …   │\n",
       "│ 2022-09-05 ┆ 14250.2099 ┆ 2fc07b1747 ┆ 41         ┆ … ┆ 24.0       ┆ 1476.0    ┆ 55.0      ┆ 9   │\n",
       "│            ┆ 61         ┆ c11b5688e0 ┆            ┆   ┆            ┆           ┆           ┆     │\n",
       "│            ┆            ┆ 4a854160fd ┆            ┆   ┆            ┆           ┆           ┆     │\n",
       "│            ┆            ┆ …          ┆            ┆   ┆            ┆           ┆           ┆     │\n",
       "│ 2022-09-13 ┆ 19039.7343 ┆ 2fc07b1747 ┆ 41         ┆ … ┆ 24.0       ┆ 1476.0    ┆ 55.0      ┆ 9   │\n",
       "│            ┆ 75         ┆ c11b5688e0 ┆            ┆   ┆            ┆           ┆           ┆     │\n",
       "│            ┆            ┆ 4a854160fd ┆            ┆   ┆            ┆           ┆           ┆     │\n",
       "│            ┆            ┆ …          ┆            ┆   ┆            ┆           ┆           ┆     │\n",
       "│ 2022-09-18 ┆ 5808.52294 ┆ 2fc07b1747 ┆ 41         ┆ … ┆ 24.0       ┆ 1476.0    ┆ 55.0      ┆ 9   │\n",
       "│            ┆ 9          ┆ c11b5688e0 ┆            ┆   ┆            ┆           ┆           ┆     │\n",
       "│            ┆            ┆ 4a854160fd ┆            ┆   ┆            ┆           ┆           ┆     │\n",
       "│            ┆            ┆ …          ┆            ┆   ┆            ┆           ┆           ┆     │\n",
       "│ 2022-09-17 ┆ 21264.7910 ┆ 2fc07b1747 ┆ 41         ┆ … ┆ 24.0       ┆ 1476.0    ┆ 55.0      ┆ 9   │\n",
       "│            ┆ 16         ┆ c11b5688e0 ┆            ┆   ┆            ┆           ┆           ┆     │\n",
       "│            ┆            ┆ 4a854160fd ┆            ┆   ┆            ┆           ┆           ┆     │\n",
       "│            ┆            ┆ …          ┆            ┆   ┆            ┆           ┆           ┆     │\n",
       "│ 2022-09-03 ┆ 6307.92627 ┆ 2fc07b1747 ┆ 41         ┆ … ┆ 24.0       ┆ 1476.0    ┆ 55.0      ┆ 9   │\n",
       "│            ┆            ┆ c11b5688e0 ┆            ┆   ┆            ┆           ┆           ┆     │\n",
       "│            ┆            ┆ 4a854160fd ┆            ┆   ┆            ┆           ┆           ┆     │\n",
       "│            ┆            ┆ …          ┆            ┆   ┆            ┆           ┆           ┆     │\n",
       "└────────────┴────────────┴────────────┴────────────┴───┴────────────┴───────────┴───────────┴─────┘"
      ]
     },
     "execution_count": 4,
     "metadata": {},
     "output_type": "execute_result"
    }
   ],
   "source": [
    "target_train = pl.read_parquet(f'{DATA_PATH}/train_target.parquet')\n",
    "target_train = target_train.with_columns(\n",
    "    pl.col('mon').str.to_date(\"%Y-%m-%d\")\n",
    ")\n",
    "\n",
    "trx_train = trx_train.with_columns(\n",
    "    pl.col('event_time').dt.strftime(\"%Y-%m-%d\"))\n",
    "trx_train = trx_train.with_columns(\n",
    "    pl.col('event_time').str.to_date(\"%Y-%m-%d\")\n",
    ")\n",
    "trx_train"
   ]
  },
  {
   "cell_type": "code",
   "execution_count": 5,
   "metadata": {
    "execution": {
     "iopub.execute_input": "2024-07-04T12:37:42.559474Z",
     "iopub.status.busy": "2024-07-04T12:37:42.558743Z",
     "iopub.status.idle": "2024-07-04T12:38:12.814704Z",
     "shell.execute_reply": "2024-07-04T12:38:12.813429Z",
     "shell.execute_reply.started": "2024-07-04T12:37:42.559449Z"
    },
    "id": "0oJ6jztCbAGr",
    "tags": []
   },
   "outputs": [],
   "source": [
    "def amount_agregate(tg, trx_timeseries):\n",
    "    # Преобразование столбца event_time в datetime\n",
    "    feats = []\n",
    "    # unique_months = tg.select(pl.col('mon')).unique()\n",
    "    unique_months = tg.select(pl.col('mon')).unique().to_series().to_list()\n",
    "    for mon in unique_months:\n",
    "        # Фильтрация транзакций до текущего месяца\n",
    "        trx = trx_timeseries.filter(pl.col('event_time') < mon)\n",
    "        # mon_datetime = pl.datetime(mon.year, mon.month, 1)\n",
    "        \n",
    "        # Группировка и агрегация по клиентам\n",
    "        feats_mon = trx.group_by('client_id').agg([\n",
    "            pl.col('amount').sum().alias('sum_amount'),\n",
    "            pl.col('amount').max().alias('max_amount'),\n",
    "            pl.col('amount').min().alias('min_amount'),\n",
    "            pl.col('amount').mean().alias('mean_amount')\n",
    "        ])\n",
    "\n",
    "        # Добавление текущего месяца в результаты агрегации\n",
    "        feats_mon = feats_mon.with_columns(pl.lit(mon).alias('mon'))\n",
    "        feats.append(feats_mon)\n",
    "\n",
    "    # Объединение всех агрегированных результатов\n",
    "    feats = pl.concat(feats)\n",
    "\n",
    "    return feats\n",
    "\n",
    "# Пример использования функции\n",
    "# target_train и trx_train должны быть поларсовскими DataFrame\n",
    "# target_train = pl.DataFrame(target_train)\n",
    "# trx_train = pl.DataFrame(trx_train)\n",
    "\n",
    "feats = amount_agregate(target_train, trx_train)\n"
   ]
  },
  {
   "cell_type": "markdown",
   "metadata": {},
   "source": [
    "# Geo Hash"
   ]
  },
  {
   "cell_type": "code",
   "execution_count": 6,
   "metadata": {
    "execution": {
     "iopub.execute_input": "2024-07-04T12:38:12.817043Z",
     "iopub.status.busy": "2024-07-04T12:38:12.816233Z",
     "iopub.status.idle": "2024-07-04T12:38:15.727177Z",
     "shell.execute_reply": "2024-07-04T12:38:15.726037Z",
     "shell.execute_reply.started": "2024-07-04T12:38:12.817007Z"
    },
    "tags": []
   },
   "outputs": [],
   "source": [
    "# Преобразование даты в последнюю дату месяца\n",
    "geo_train = pl.read_parquet(f'{DATA_PATH}/geo_train.parquet')\n",
    "\n",
    "geo_train = geo_train.with_columns(pl.col('event_time').dt.month_end().alias('mon'))\n",
    "\n",
    "# Функция для получения последнего дня месяца\n",
    "ge_train = geo_train.drop('event_time')\n"
   ]
  },
  {
   "cell_type": "code",
   "execution_count": 7,
   "metadata": {
    "execution": {
     "iopub.execute_input": "2024-07-04T12:38:15.729663Z",
     "iopub.status.busy": "2024-07-04T12:38:15.728551Z",
     "iopub.status.idle": "2024-07-04T12:39:02.562161Z",
     "shell.execute_reply": "2024-07-04T12:39:02.561262Z",
     "shell.execute_reply.started": "2024-07-04T12:38:15.729620Z"
    },
    "tags": []
   },
   "outputs": [
    {
     "data": {
      "text/html": [
       "<div><style>\n",
       ".dataframe > thead > tr,\n",
       ".dataframe > tbody > tr {\n",
       "  text-align: right;\n",
       "  white-space: pre-wrap;\n",
       "}\n",
       "</style>\n",
       "<small>shape: (1_234_528, 3)</small><table border=\"1\" class=\"dataframe\"><thead><tr><th>client_id</th><th>count</th><th>mon</th></tr><tr><td>str</td><td>u32</td><td>date</td></tr></thead><tbody><tr><td>&quot;7ce559e46bee06f95d11b9aac634b6…</td><td>65</td><td>2022-10-31</td></tr><tr><td>&quot;87e8b1b2382f0d025a9be38a8b49be…</td><td>5</td><td>2022-10-31</td></tr><tr><td>&quot;c16303fa410fdf81ec75d0c7d08d7d…</td><td>32</td><td>2022-10-31</td></tr><tr><td>&quot;2b66927be78567ce4ba6daf3c61eb3…</td><td>257</td><td>2022-10-31</td></tr><tr><td>&quot;c1ea2bc3874950b0ad552bfd204dc0…</td><td>146</td><td>2022-10-31</td></tr><tr><td>&hellip;</td><td>&hellip;</td><td>&hellip;</td></tr><tr><td>&quot;56f590ee06e454d88f9e219653e85a…</td><td>562</td><td>2023-01-31</td></tr><tr><td>&quot;d1c3dbed10257b14b6bee29fbfacf1…</td><td>231</td><td>2023-01-31</td></tr><tr><td>&quot;9dc42532c1793e59e2b20523835f6d…</td><td>729</td><td>2023-01-31</td></tr><tr><td>&quot;4ceab4c5b3333ad3305722d7897687…</td><td>23</td><td>2023-01-31</td></tr><tr><td>&quot;6916326197776850cfe730600abc57…</td><td>2</td><td>2023-01-31</td></tr></tbody></table></div>"
      ],
      "text/plain": [
       "shape: (1_234_528, 3)\n",
       "┌─────────────────────────────────┬───────┬────────────┐\n",
       "│ client_id                       ┆ count ┆ mon        │\n",
       "│ ---                             ┆ ---   ┆ ---        │\n",
       "│ str                             ┆ u32   ┆ date       │\n",
       "╞═════════════════════════════════╪═══════╪════════════╡\n",
       "│ 7ce559e46bee06f95d11b9aac634b6… ┆ 65    ┆ 2022-10-31 │\n",
       "│ 87e8b1b2382f0d025a9be38a8b49be… ┆ 5     ┆ 2022-10-31 │\n",
       "│ c16303fa410fdf81ec75d0c7d08d7d… ┆ 32    ┆ 2022-10-31 │\n",
       "│ 2b66927be78567ce4ba6daf3c61eb3… ┆ 257   ┆ 2022-10-31 │\n",
       "│ c1ea2bc3874950b0ad552bfd204dc0… ┆ 146   ┆ 2022-10-31 │\n",
       "│ …                               ┆ …     ┆ …          │\n",
       "│ 56f590ee06e454d88f9e219653e85a… ┆ 562   ┆ 2023-01-31 │\n",
       "│ d1c3dbed10257b14b6bee29fbfacf1… ┆ 231   ┆ 2023-01-31 │\n",
       "│ 9dc42532c1793e59e2b20523835f6d… ┆ 729   ┆ 2023-01-31 │\n",
       "│ 4ceab4c5b3333ad3305722d7897687… ┆ 23    ┆ 2023-01-31 │\n",
       "│ 6916326197776850cfe730600abc57… ┆ 2     ┆ 2023-01-31 │\n",
       "└─────────────────────────────────┴───────┴────────────┘"
      ]
     },
     "execution_count": 7,
     "metadata": {},
     "output_type": "execute_result"
    }
   ],
   "source": [
    "# Функция для агрегации геоданных\n",
    "def geo_aggregate(tg, geo_timeseries):\n",
    "    feats = []\n",
    "    unique_months = tg.select(pl.col('mon')).unique().to_series().to_list()\n",
    "\n",
    "    for mon in unique_months:\n",
    "        # Фильтрация транзакций до текущего месяца\n",
    "        geo = geo_timeseries.filter(pl.col('mon') < mon)\n",
    "\n",
    "        # Группировка и агрегация по клиентам\n",
    "        feats_mon = geo.group_by('client_id').agg(\n",
    "            pl.col('client_id').count().alias('count')\n",
    "        )\n",
    "\n",
    "        # Добавление текущего месяца в результаты агрегации\n",
    "        feats_mon = feats_mon.with_columns(pl.lit(mon).alias('mon'))\n",
    "        feats.append(feats_mon)\n",
    "\n",
    "    # Объединение всех агрегированных результатов\n",
    "    feats = pl.concat(feats, how=\"vertical\")\n",
    "\n",
    "    return feats\n",
    "\n",
    "# Создание агрегатов по геоданным\n",
    "geo_feats = geo_aggregate(feats, ge_train)\n",
    "\n",
    "geo_feats"
   ]
  },
  {
   "cell_type": "code",
   "execution_count": 8,
   "metadata": {
    "execution": {
     "iopub.execute_input": "2024-07-04T12:39:02.564163Z",
     "iopub.status.busy": "2024-07-04T12:39:02.563499Z",
     "iopub.status.idle": "2024-07-04T12:39:02.608300Z",
     "shell.execute_reply": "2024-07-04T12:39:02.607374Z",
     "shell.execute_reply.started": "2024-07-04T12:39:02.564135Z"
    },
    "tags": []
   },
   "outputs": [
    {
     "data": {
      "text/html": [
       "<div><style>\n",
       ".dataframe > thead > tr,\n",
       ".dataframe > tbody > tr {\n",
       "  text-align: right;\n",
       "  white-space: pre-wrap;\n",
       "}\n",
       "</style>\n",
       "<small>shape: (1_234_528, 3)</small><table border=\"1\" class=\"dataframe\"><thead><tr><th>client_id</th><th>geo_count</th><th>mon</th></tr><tr><td>str</td><td>u32</td><td>date</td></tr></thead><tbody><tr><td>&quot;7ce559e46bee06f95d11b9aac634b6…</td><td>65</td><td>2022-10-31</td></tr><tr><td>&quot;87e8b1b2382f0d025a9be38a8b49be…</td><td>5</td><td>2022-10-31</td></tr><tr><td>&quot;c16303fa410fdf81ec75d0c7d08d7d…</td><td>32</td><td>2022-10-31</td></tr><tr><td>&quot;2b66927be78567ce4ba6daf3c61eb3…</td><td>257</td><td>2022-10-31</td></tr><tr><td>&quot;c1ea2bc3874950b0ad552bfd204dc0…</td><td>146</td><td>2022-10-31</td></tr><tr><td>&hellip;</td><td>&hellip;</td><td>&hellip;</td></tr><tr><td>&quot;56f590ee06e454d88f9e219653e85a…</td><td>562</td><td>2023-01-31</td></tr><tr><td>&quot;d1c3dbed10257b14b6bee29fbfacf1…</td><td>231</td><td>2023-01-31</td></tr><tr><td>&quot;9dc42532c1793e59e2b20523835f6d…</td><td>729</td><td>2023-01-31</td></tr><tr><td>&quot;4ceab4c5b3333ad3305722d7897687…</td><td>23</td><td>2023-01-31</td></tr><tr><td>&quot;6916326197776850cfe730600abc57…</td><td>2</td><td>2023-01-31</td></tr></tbody></table></div>"
      ],
      "text/plain": [
       "shape: (1_234_528, 3)\n",
       "┌─────────────────────────────────┬───────────┬────────────┐\n",
       "│ client_id                       ┆ geo_count ┆ mon        │\n",
       "│ ---                             ┆ ---       ┆ ---        │\n",
       "│ str                             ┆ u32       ┆ date       │\n",
       "╞═════════════════════════════════╪═══════════╪════════════╡\n",
       "│ 7ce559e46bee06f95d11b9aac634b6… ┆ 65        ┆ 2022-10-31 │\n",
       "│ 87e8b1b2382f0d025a9be38a8b49be… ┆ 5         ┆ 2022-10-31 │\n",
       "│ c16303fa410fdf81ec75d0c7d08d7d… ┆ 32        ┆ 2022-10-31 │\n",
       "│ 2b66927be78567ce4ba6daf3c61eb3… ┆ 257       ┆ 2022-10-31 │\n",
       "│ c1ea2bc3874950b0ad552bfd204dc0… ┆ 146       ┆ 2022-10-31 │\n",
       "│ …                               ┆ …         ┆ …          │\n",
       "│ 56f590ee06e454d88f9e219653e85a… ┆ 562       ┆ 2023-01-31 │\n",
       "│ d1c3dbed10257b14b6bee29fbfacf1… ┆ 231       ┆ 2023-01-31 │\n",
       "│ 9dc42532c1793e59e2b20523835f6d… ┆ 729       ┆ 2023-01-31 │\n",
       "│ 4ceab4c5b3333ad3305722d7897687… ┆ 23        ┆ 2023-01-31 │\n",
       "│ 6916326197776850cfe730600abc57… ┆ 2         ┆ 2023-01-31 │\n",
       "└─────────────────────────────────┴───────────┴────────────┘"
      ]
     },
     "execution_count": 8,
     "metadata": {},
     "output_type": "execute_result"
    }
   ],
   "source": [
    "geo_feats.rename({\"count\": \"geo_count\"})"
   ]
  },
  {
   "cell_type": "markdown",
   "metadata": {},
   "source": [
    "# Embeddings"
   ]
  },
  {
   "cell_type": "code",
   "execution_count": 9,
   "metadata": {
    "execution": {
     "iopub.execute_input": "2024-07-04T12:39:02.609999Z",
     "iopub.status.busy": "2024-07-04T12:39:02.609274Z",
     "iopub.status.idle": "2024-07-04T12:39:03.119970Z",
     "shell.execute_reply": "2024-07-04T12:39:03.119211Z",
     "shell.execute_reply.started": "2024-07-04T12:39:02.609965Z"
    },
    "tags": []
   },
   "outputs": [
    {
     "data": {
      "text/html": [
       "<div><style>\n",
       ".dataframe > thead > tr,\n",
       ".dataframe > tbody > tr {\n",
       "  text-align: right;\n",
       "  white-space: pre-wrap;\n",
       "}\n",
       "</style>\n",
       "<small>shape: (206_243, 3)</small><table border=\"1\" class=\"dataframe\"><thead><tr><th>client_id</th><th>embedding</th><th>mon</th></tr><tr><td>str</td><td>list[f32]</td><td>datetime[μs]</td></tr></thead><tbody><tr><td>&quot;b27b9c54e72728e7bbfbe96ef2f3d4…</td><td>[0.341713, -0.052266, … 0.394347]</td><td>2022-01-31 12:22:28.151649</td></tr><tr><td>&quot;bff7260208097c052cea083ddc9e96…</td><td>[0.251929, -0.057982, … 0.24899]</td><td>2022-01-31 10:19:36.296643</td></tr><tr><td>&quot;c977ed2889aacd9aa35420cce56522…</td><td>[0.104948, 0.128751, … -0.081843]</td><td>2022-01-31 11:56:28.229993</td></tr><tr><td>&quot;d2e003fda662d4362aed928dea8bda…</td><td>[0.341845, -0.006655, … 0.24816]</td><td>2022-01-31 09:54:14.315763</td></tr><tr><td>&quot;d887ecc28f596b1ccf4d9758c1974d…</td><td>[0.208994, -0.203628, … 0.316865]</td><td>2022-01-31 06:19:57.134893</td></tr><tr><td>&hellip;</td><td>&hellip;</td><td>&hellip;</td></tr><tr><td>&quot;3b28346c9687dc7b7f293f9a232b33…</td><td>[0.391926, -0.042448, … 0.380903]</td><td>2022-09-30 18:31:02.682112</td></tr><tr><td>&quot;3b28346c9687dc7b7f293f9a232b33…</td><td>[0.494272, -0.377852, … 0.330771]</td><td>2022-09-30 11:01:40.032310</td></tr><tr><td>&quot;3b28346c9687dc7b7f293f9a232b33…</td><td>[0.0059, -0.169089, … 0.358377]</td><td>2022-09-30 14:08:59.343379</td></tr><tr><td>&quot;3b28346c9687dc7b7f293f9a232b33…</td><td>[0.286338, 0.039379, … 0.114356]</td><td>2022-09-30 08:29:21.048320</td></tr><tr><td>&quot;43a09529ef435e463414a37ef794fd…</td><td>[0.318836, -0.00399, … 0.324993]</td><td>2022-09-30 09:57:31.696529</td></tr></tbody></table></div>"
      ],
      "text/plain": [
       "shape: (206_243, 3)\n",
       "┌─────────────────────────────────┬─────────────────────────────────┬────────────────────────────┐\n",
       "│ client_id                       ┆ embedding                       ┆ mon                        │\n",
       "│ ---                             ┆ ---                             ┆ ---                        │\n",
       "│ str                             ┆ list[f32]                       ┆ datetime[μs]               │\n",
       "╞═════════════════════════════════╪═════════════════════════════════╪════════════════════════════╡\n",
       "│ b27b9c54e72728e7bbfbe96ef2f3d4… ┆ [0.341713, -0.052266, … 0.3943… ┆ 2022-01-31 12:22:28.151649 │\n",
       "│ bff7260208097c052cea083ddc9e96… ┆ [0.251929, -0.057982, … 0.2489… ┆ 2022-01-31 10:19:36.296643 │\n",
       "│ c977ed2889aacd9aa35420cce56522… ┆ [0.104948, 0.128751, … -0.0818… ┆ 2022-01-31 11:56:28.229993 │\n",
       "│ d2e003fda662d4362aed928dea8bda… ┆ [0.341845, -0.006655, … 0.2481… ┆ 2022-01-31 09:54:14.315763 │\n",
       "│ d887ecc28f596b1ccf4d9758c1974d… ┆ [0.208994, -0.203628, … 0.3168… ┆ 2022-01-31 06:19:57.134893 │\n",
       "│ …                               ┆ …                               ┆ …                          │\n",
       "│ 3b28346c9687dc7b7f293f9a232b33… ┆ [0.391926, -0.042448, … 0.3809… ┆ 2022-09-30 18:31:02.682112 │\n",
       "│ 3b28346c9687dc7b7f293f9a232b33… ┆ [0.494272, -0.377852, … 0.3307… ┆ 2022-09-30 11:01:40.032310 │\n",
       "│ 3b28346c9687dc7b7f293f9a232b33… ┆ [0.0059, -0.169089, … 0.358377… ┆ 2022-09-30 14:08:59.343379 │\n",
       "│ 3b28346c9687dc7b7f293f9a232b33… ┆ [0.286338, 0.039379, … 0.11435… ┆ 2022-09-30 08:29:21.048320 │\n",
       "│ 43a09529ef435e463414a37ef794fd… ┆ [0.318836, -0.00399, … 0.32499… ┆ 2022-09-30 09:57:31.696529 │\n",
       "└─────────────────────────────────┴─────────────────────────────────┴────────────────────────────┘"
      ]
     },
     "execution_count": 9,
     "metadata": {},
     "output_type": "execute_result"
    }
   ],
   "source": [
    "# Преобразование даты в последнюю дату месяца\n",
    "dial_train_path = f'{DATA_PATH}/dial_train.parquet'\n",
    "dial_train = pl.read_parquet(dial_train_path)\n",
    "\n",
    "dial_train = dial_train.with_columns(pl.col('event_time').dt.month_end().alias('mon'))\n",
    "dial_train = dial_train.drop('event_time')\n",
    "dial_train"
   ]
  },
  {
   "cell_type": "code",
   "execution_count": 10,
   "metadata": {
    "execution": {
     "iopub.execute_input": "2024-07-04T12:39:03.123216Z",
     "iopub.status.busy": "2024-07-04T12:39:03.122479Z",
     "iopub.status.idle": "2024-07-04T12:39:03.179870Z",
     "shell.execute_reply": "2024-07-04T12:39:03.179102Z",
     "shell.execute_reply.started": "2024-07-04T12:39:03.123183Z"
    },
    "tags": []
   },
   "outputs": [],
   "source": [
    "dial_train = dial_train.with_columns(\n",
    "    pl.col('mon').dt.strftime(\"%Y-%m-%d\"))\n",
    "dial_train = dial_train.with_columns(\n",
    "    pl.col('mon').str.to_date(\"%Y-%m-%d\")\n",
    ")"
   ]
  },
  {
   "cell_type": "code",
   "execution_count": 11,
   "metadata": {
    "execution": {
     "iopub.execute_input": "2024-07-04T12:39:03.181437Z",
     "iopub.status.busy": "2024-07-04T12:39:03.180890Z",
     "iopub.status.idle": "2024-07-04T12:39:09.231600Z",
     "shell.execute_reply": "2024-07-04T12:39:09.230766Z",
     "shell.execute_reply.started": "2024-07-04T12:39:03.181403Z"
    },
    "tags": []
   },
   "outputs": [
    {
     "data": {
      "text/html": [
       "<div><style>\n",
       ".dataframe > thead > tr,\n",
       ".dataframe > tbody > tr {\n",
       "  text-align: right;\n",
       "  white-space: pre-wrap;\n",
       "}\n",
       "</style>\n",
       "<small>shape: (362_257, 3)</small><table border=\"1\" class=\"dataframe\"><thead><tr><th>client_id</th><th>count</th><th>mon</th></tr><tr><td>str</td><td>u32</td><td>date</td></tr></thead><tbody><tr><td>&quot;68629310e3da9c283bf71ed5a1d8ba…</td><td>2</td><td>2022-10-31</td></tr><tr><td>&quot;581863d19d4cf66d6eb65577783ba2…</td><td>1</td><td>2022-10-31</td></tr><tr><td>&quot;8655c45ed652821bf8389ed3c74556…</td><td>2</td><td>2022-10-31</td></tr><tr><td>&quot;ba1cf47f80f21a0d64697a6e4ff7c2…</td><td>6</td><td>2022-10-31</td></tr><tr><td>&quot;5ff65af869516e0f9d902e1805b37f…</td><td>3</td><td>2022-10-31</td></tr><tr><td>&hellip;</td><td>&hellip;</td><td>&hellip;</td></tr><tr><td>&quot;2e1da5a2dbdaf23708682d8a4cf78b…</td><td>1</td><td>2023-01-31</td></tr><tr><td>&quot;bd5e72d5e28e497898d826989c8a20…</td><td>1</td><td>2023-01-31</td></tr><tr><td>&quot;3523c619d944ea11126d83e2bf0a0c…</td><td>3</td><td>2023-01-31</td></tr><tr><td>&quot;7bd6e520ac23142c3aef469335814c…</td><td>12</td><td>2023-01-31</td></tr><tr><td>&quot;e79bd30f451aebe1487af72d56fe76…</td><td>2</td><td>2023-01-31</td></tr></tbody></table></div>"
      ],
      "text/plain": [
       "shape: (362_257, 3)\n",
       "┌─────────────────────────────────┬───────┬────────────┐\n",
       "│ client_id                       ┆ count ┆ mon        │\n",
       "│ ---                             ┆ ---   ┆ ---        │\n",
       "│ str                             ┆ u32   ┆ date       │\n",
       "╞═════════════════════════════════╪═══════╪════════════╡\n",
       "│ 68629310e3da9c283bf71ed5a1d8ba… ┆ 2     ┆ 2022-10-31 │\n",
       "│ 581863d19d4cf66d6eb65577783ba2… ┆ 1     ┆ 2022-10-31 │\n",
       "│ 8655c45ed652821bf8389ed3c74556… ┆ 2     ┆ 2022-10-31 │\n",
       "│ ba1cf47f80f21a0d64697a6e4ff7c2… ┆ 6     ┆ 2022-10-31 │\n",
       "│ 5ff65af869516e0f9d902e1805b37f… ┆ 3     ┆ 2022-10-31 │\n",
       "│ …                               ┆ …     ┆ …          │\n",
       "│ 2e1da5a2dbdaf23708682d8a4cf78b… ┆ 1     ┆ 2023-01-31 │\n",
       "│ bd5e72d5e28e497898d826989c8a20… ┆ 1     ┆ 2023-01-31 │\n",
       "│ 3523c619d944ea11126d83e2bf0a0c… ┆ 3     ┆ 2023-01-31 │\n",
       "│ 7bd6e520ac23142c3aef469335814c… ┆ 12    ┆ 2023-01-31 │\n",
       "│ e79bd30f451aebe1487af72d56fe76… ┆ 2     ┆ 2023-01-31 │\n",
       "└─────────────────────────────────┴───────┴────────────┘"
      ]
     },
     "execution_count": 11,
     "metadata": {},
     "output_type": "execute_result"
    }
   ],
   "source": [
    "def dio_aggregate(tg, dio_timeseries):\n",
    "    feats = []\n",
    "    unique_months = tg.select(pl.col('mon')).unique().to_series().to_list()\n",
    "\n",
    "    for mon in unique_months:\n",
    "        # Фильтрация транзакций до текущего месяца\n",
    "        dio = dio_timeseries.filter(pl.col('mon') < mon)\n",
    "\n",
    "        # Группировка и агрегация по клиентам\n",
    "        feats_mon = dio.group_by('client_id').agg(\n",
    "            pl.col('client_id').count().alias('count')\n",
    "        )\n",
    "\n",
    "        # Добавление текущего месяца в результаты агрегации\n",
    "        feats_mon = feats_mon.with_columns(pl.lit(mon).alias('mon'))\n",
    "        feats.append(feats_mon)\n",
    "\n",
    "    # Объединение всех агрегированных результатов\n",
    "    feats = pl.concat(feats, how=\"vertical\")\n",
    "\n",
    "    return feats\n",
    "\n",
    "# Создание агрегатов по геоданным\n",
    "dial_feats = dio_aggregate(feats, dial_train)\n",
    "dial_feats"
   ]
  },
  {
   "cell_type": "code",
   "execution_count": 13,
   "metadata": {
    "execution": {
     "iopub.execute_input": "2024-07-04T12:39:46.918710Z",
     "iopub.status.busy": "2024-07-04T12:39:46.917742Z",
     "iopub.status.idle": "2024-07-04T12:39:47.789159Z",
     "shell.execute_reply": "2024-07-04T12:39:47.788498Z",
     "shell.execute_reply.started": "2024-07-04T12:39:46.918676Z"
    },
    "tags": []
   },
   "outputs": [],
   "source": [
    "# Объединение всех фичей с таргетом\n",
    "# Преобразование строки в дату\n",
    "# target_train = target_train.with_column(\n",
    "#     pl.col('mon').str.strptime(pl.Date, fmt=\"%Y-%m\")\n",
    "# )\n",
    "\n",
    "# feats = feats.with_column(\n",
    "#     pl.col('mon').str.strptime(pl.Date, fmt=\"%Y-%m\")\n",
    "# )\n",
    "\n",
    "# Случайное перемешивание данных и установка индекса\n",
    "# RS = 42\n",
    "# target_train = target_train.sample(frac=1, seed=RS)\n",
    "\n",
    "train_data = target_train.join(feats, on=['client_id', 'mon'], how='left')\n",
    "train_data = train_data.join(geo_feats, on=['client_id', 'mon'], how='left')\n",
    "train_data = train_data.join(dial_feats, on=['client_id', 'mon'], how='left')\n",
    "\n",
    "# Объединение данных\n",
    "\n",
    "# Получение первых 10000 уникальных client_id\n",
    "ids = train_data.select(pl.col('client_id').unique()).to_series().to_list()[:10000]\n",
    "\n",
    "# Разделение на обучающую и валидационную выборки\n",
    "df_val = train_data.filter(pl.col('client_id').is_in(ids))\n",
    "df_fit = train_data.filter(~pl.col('client_id').is_in(ids))\n"
   ]
  },
  {
   "cell_type": "code",
   "execution_count": 14,
   "metadata": {
    "execution": {
     "iopub.execute_input": "2024-07-04T12:40:09.348259Z",
     "iopub.status.busy": "2024-07-04T12:40:09.347434Z",
     "iopub.status.idle": "2024-07-04T12:40:09.806891Z",
     "shell.execute_reply": "2024-07-04T12:40:09.805973Z",
     "shell.execute_reply.started": "2024-07-04T12:40:09.348235Z"
    },
    "tags": []
   },
   "outputs": [],
   "source": [
    "df_val = df_val.with_columns(\n",
    "    pl.col('mon').dt.strftime(\"%Y-%m-%d\"))\n",
    "# df_val = df_val.with_columns(\n",
    "#     pl.col('mon').str.to_date(\"%Y-%m-%d\")\n",
    "# )\n",
    "\n",
    "df_fit = df_fit.with_columns(\n",
    "    pl.col('mon').dt.strftime(\"%Y-%m-%d\"))\n",
    "# df_fit = df_fit.with_columns(\n",
    "#     pl.col('mon').str.to_date(\"%Y-%m-%d\")\n",
    "# )"
   ]
  },
  {
   "cell_type": "code",
   "execution_count": 16,
   "metadata": {
    "execution": {
     "iopub.execute_input": "2024-07-04T12:40:18.786451Z",
     "iopub.status.busy": "2024-07-04T12:40:18.785593Z",
     "iopub.status.idle": "2024-07-04T12:40:19.069336Z",
     "shell.execute_reply": "2024-07-04T12:40:19.068629Z",
     "shell.execute_reply.started": "2024-07-04T12:40:18.786424Z"
    },
    "tags": []
   },
   "outputs": [],
   "source": [
    "# df_train = train_data\n",
    "\n",
    "df_val = df_val.to_pandas()\n",
    "df_fit = df_fit.to_pandas()"
   ]
  },
  {
   "cell_type": "code",
   "execution_count": 17,
   "metadata": {
    "execution": {
     "iopub.execute_input": "2024-07-04T12:40:34.256268Z",
     "iopub.status.busy": "2024-07-04T12:40:34.255353Z",
     "iopub.status.idle": "2024-07-04T12:40:34.655113Z",
     "shell.execute_reply": "2024-07-04T12:40:34.654454Z",
     "shell.execute_reply.started": "2024-07-04T12:40:34.256233Z"
    },
    "id": "75FoFRMbbEJL",
    "tags": []
   },
   "outputs": [],
   "source": [
    "# Делим на тренировочную и валидационную подвыборки\n",
    "def encoding(series):\n",
    "    codes, uniques = pd.factorize(series.values)\n",
    "    series = pd.Series(codes)\n",
    "    return series\n",
    "\n",
    "# df_val = df_val.copy(deep=False)\n",
    "\n",
    "objects = ['mon', 'client_id']\n",
    "\n",
    "for object_ in  objects:\n",
    "    df_val[object_] = encoding(df_val[object_])\n",
    "    df_fit[object_] = encoding(df_fit[object_])\n"
   ]
  },
  {
   "cell_type": "code",
   "execution_count": 65,
   "metadata": {
    "execution": {
     "iopub.execute_input": "2024-07-04T13:29:31.203055Z",
     "iopub.status.busy": "2024-07-04T13:29:31.202121Z",
     "iopub.status.idle": "2024-07-04T13:29:31.257476Z",
     "shell.execute_reply": "2024-07-04T13:29:31.256837Z",
     "shell.execute_reply.started": "2024-07-04T13:29:31.203026Z"
    },
    "tags": []
   },
   "outputs": [
    {
     "data": {
      "text/plain": [
       "(1929336, 12)"
      ]
     },
     "execution_count": 65,
     "metadata": {},
     "output_type": "execute_result"
    }
   ],
   "source": [
    "df_fit.shape"
   ]
  },
  {
   "cell_type": "code",
   "execution_count": 66,
   "metadata": {
    "execution": {
     "iopub.execute_input": "2024-07-04T13:29:40.906457Z",
     "iopub.status.busy": "2024-07-04T13:29:40.905687Z",
     "iopub.status.idle": "2024-07-04T13:30:33.665711Z",
     "shell.execute_reply": "2024-07-04T13:30:33.665073Z",
     "shell.execute_reply.started": "2024-07-04T13:29:40.906430Z"
    },
    "tags": []
   },
   "outputs": [
    {
     "name": "stdout",
     "output_type": "stream",
     "text": [
      "(1929336, 8)\n",
      "Training until validation scores don't improve for 5 rounds\n",
      "Did not meet early stopping. Best iteration is:\n",
      "[1000]\tvalid_0's binary_logloss: 0.0430259\n",
      "target_1 score train: 0.5445558967200395\n",
      "(1929336, 8)\n",
      "Training until validation scores don't improve for 5 rounds\n",
      "Early stopping, best iteration is:\n",
      "[950]\tvalid_0's binary_logloss: 0.00620748\n",
      "target_2 score train: 0.7305086141271098\n",
      "(1929336, 8)\n",
      "Training until validation scores don't improve for 5 rounds\n",
      "Did not meet early stopping. Best iteration is:\n",
      "[1000]\tvalid_0's binary_logloss: 0.035545\n",
      "target_3 score train: 0.6697267034844958\n",
      "(1929336, 8)\n",
      "Training until validation scores don't improve for 5 rounds\n",
      "Did not meet early stopping. Best iteration is:\n",
      "[1000]\tvalid_0's binary_logloss: 0.0260455\n",
      "target_4 score train: 0.6071560063921853\n",
      "======================================\n",
      "target_1 score test: 0.5402851077201825\n",
      "target_2 score test: 0.656848746630502\n",
      "target_3 score test: 0.653456998721635\n",
      "target_4 score test: 0.5762021457408064\n",
      "======================================\n",
      "avg gini: 0.6066982497032815\n"
     ]
    }
   ],
   "source": [
    "# Для каждого таргета фитим модель\n",
    "# n_estimat320\n",
    "# maxdepth4\n",
    "\n",
    "# Для каждого таргета фитим модель\n",
    "\n",
    "models = {}\n",
    "\n",
    "params = {'max_depth': 4, 'objective': 'binary',\n",
    "          'learning_rate': 0.003, 'verbose': -1, 'random_state': RS}\n",
    "\n",
    "for t in range(1, 5):\n",
    "    target_col = f'target_{t}'\n",
    "    tg = df_fit[target_col]\n",
    "    X = df_fit.drop(columns=[f'target_{i}' for i in range(1, 5)])\n",
    "    trds = Dataset(X, tg)\n",
    "\n",
    "    tgv = df_val[target_col]\n",
    "    Xv = df_val.drop(columns=[f'target_{i}' for i in range(1, 5)])\n",
    "    vds = Dataset(Xv, tgv)\n",
    "    print(X.shape)\n",
    "    lgbm = lightgbm.train(params=params, num_boost_round=1000, train_set=trds, valid_sets=[vds],\n",
    "                          callbacks=[lightgbm.early_stopping(stopping_rounds=5)])\n",
    "\n",
    "    models[target_col] = lgbm\n",
    "    print(f'{target_col} score train: {2 * roc_auc_score(tg, lgbm.predict(X)) - 1}')\n",
    "\n",
    "print('======================================')\n",
    "metrics = {}\n",
    "for t in range(1, 5):\n",
    "    target_col = f'target_{t}'\n",
    "    tg = df_val[target_col]\n",
    "    X = df_val.drop(columns=[f'target_{i}' for i in range(1, 5)])\n",
    "    metrics[target_col] = 2 * roc_auc_score(tg, models[target_col].predict(X)) - 1\n",
    "    print(f'{target_col} score test: {metrics[target_col]}')\n",
    "\n",
    "print('======================================')\n",
    "print(f'avg gini: {sum(metrics.values())/4}')"
   ]
  },
  {
   "cell_type": "code",
   "execution_count": 67,
   "metadata": {
    "execution": {
     "iopub.execute_input": "2024-07-04T13:30:33.667451Z",
     "iopub.status.busy": "2024-07-04T13:30:33.666959Z",
     "iopub.status.idle": "2024-07-04T13:30:33.802612Z",
     "shell.execute_reply": "2024-07-04T13:30:33.801970Z",
     "shell.execute_reply.started": "2024-07-04T13:30:33.667428Z"
    },
    "tags": []
   },
   "outputs": [],
   "source": [
    "with open(f'{DATA_PATH}/models.pkl', 'wb') as fl:\n",
    "    pickle.dump(models, fl)"
   ]
  },
  {
   "cell_type": "markdown",
   "metadata": {
    "id": "urNW1Q6BbKF6"
   },
   "source": [
    "# Скорим тест"
   ]
  },
  {
   "cell_type": "code",
   "execution_count": 68,
   "metadata": {
    "execution": {
     "iopub.execute_input": "2024-07-04T13:30:46.702256Z",
     "iopub.status.busy": "2024-07-04T13:30:46.701308Z",
     "iopub.status.idle": "2024-07-04T13:30:49.026837Z",
     "shell.execute_reply": "2024-07-04T13:30:49.026122Z",
     "shell.execute_reply.started": "2024-07-04T13:30:46.702222Z"
    },
    "id": "-tv2GOMCbLH-",
    "tags": []
   },
   "outputs": [],
   "source": [
    "# Загружаем тестовые данные\n",
    "\n",
    "models = pd.read_pickle(f'{DATA_PATH}/models.pkl')\n",
    "target_test = pl.read_parquet(f'{DATA_PATH}/test_target.parquet')\n",
    "trx_test = pl.read_parquet(f'{DATA_PATH}/trx_test.parquet')\n",
    "geo_test = pl.read_parquet(f'{DATA_PATH}/geo_test.parquet')"
   ]
  },
  {
   "cell_type": "code",
   "execution_count": 22,
   "metadata": {
    "execution": {
     "iopub.execute_input": "2024-07-04T12:44:50.848313Z",
     "iopub.status.busy": "2024-07-04T12:44:50.847440Z",
     "iopub.status.idle": "2024-07-04T12:45:25.950895Z",
     "shell.execute_reply": "2024-07-04T12:45:25.950073Z",
     "shell.execute_reply.started": "2024-07-04T12:44:50.848285Z"
    },
    "tags": []
   },
   "outputs": [],
   "source": [
    "# Для таргета каждого месяца делаем агрегаты объема транзакций за предшествующий доступные период\n",
    "target_test = target_test.with_columns(\n",
    "    pl.col('mon').str.to_date(\"%Y-%m-%d\")\n",
    ")\n",
    "\n",
    "\n",
    "trx_test = trx_test.with_columns(\n",
    "    pl.col('event_time').dt.strftime(\"%Y-%m-%d\"))\n",
    "trx_test = trx_test.with_columns(\n",
    "    pl.col('event_time').str.to_date(\"%Y-%m-%d\")\n",
    ")\n",
    "\n",
    "feats_test = amount_agregate(target_test, trx_test)"
   ]
  },
  {
   "cell_type": "code",
   "execution_count": 23,
   "metadata": {
    "execution": {
     "iopub.execute_input": "2024-07-04T12:45:25.952619Z",
     "iopub.status.busy": "2024-07-04T12:45:25.952177Z",
     "iopub.status.idle": "2024-07-04T12:45:27.380352Z",
     "shell.execute_reply": "2024-07-04T12:45:27.379575Z",
     "shell.execute_reply.started": "2024-07-04T12:45:25.952596Z"
    },
    "tags": []
   },
   "outputs": [],
   "source": [
    "geo_test = geo_test.with_columns(pl.col('event_time').dt.month_end().alias('mon'))\n",
    "\n",
    "# Функция для получения последнего дня месяца\n",
    "geo_test = geo_test.drop('event_time')\n",
    "\n"
   ]
  },
  {
   "cell_type": "code",
   "execution_count": 24,
   "metadata": {
    "execution": {
     "iopub.execute_input": "2024-07-04T12:45:27.381921Z",
     "iopub.status.busy": "2024-07-04T12:45:27.381471Z",
     "iopub.status.idle": "2024-07-04T12:45:34.365054Z",
     "shell.execute_reply": "2024-07-04T12:45:34.364335Z",
     "shell.execute_reply.started": "2024-07-04T12:45:27.381898Z"
    },
    "tags": []
   },
   "outputs": [
    {
     "data": {
      "text/html": [
       "<div><style>\n",
       ".dataframe > thead > tr,\n",
       ".dataframe > tbody > tr {\n",
       "  text-align: right;\n",
       "  white-space: pre-wrap;\n",
       "}\n",
       "</style>\n",
       "<small>shape: (5, 3)</small><table border=\"1\" class=\"dataframe\"><thead><tr><th>client_id</th><th>embedding</th><th>mon</th></tr><tr><td>str</td><td>list[f32]</td><td>date</td></tr></thead><tbody><tr><td>&quot;08b3569cdfd015e4ef7ed3632cf86b…</td><td>[0.110589, -0.000545, … 0.134537]</td><td>2022-02-28</td></tr><tr><td>&quot;08b3569cdfd015e4ef7ed3632cf86b…</td><td>[0.00209, 0.072185, … 0.015157]</td><td>2022-05-31</td></tr><tr><td>&quot;08b3569cdfd015e4ef7ed3632cf86b…</td><td>[0.194512, -0.032053, … 0.160809]</td><td>2022-05-31</td></tr><tr><td>&quot;08b3569cdfd015e4ef7ed3632cf86b…</td><td>[0.045035, 0.042004, … -0.112547]</td><td>2022-03-31</td></tr><tr><td>&quot;08b3569cdfd015e4ef7ed3632cf86b…</td><td>[0.330715, -0.023786, … 0.342075]</td><td>2022-03-31</td></tr></tbody></table></div>"
      ],
      "text/plain": [
       "shape: (5, 3)\n",
       "┌─────────────────────────────────┬─────────────────────────────────┬────────────┐\n",
       "│ client_id                       ┆ embedding                       ┆ mon        │\n",
       "│ ---                             ┆ ---                             ┆ ---        │\n",
       "│ str                             ┆ list[f32]                       ┆ date       │\n",
       "╞═════════════════════════════════╪═════════════════════════════════╪════════════╡\n",
       "│ 08b3569cdfd015e4ef7ed3632cf86b… ┆ [0.110589, -0.000545, … 0.1345… ┆ 2022-02-28 │\n",
       "│ 08b3569cdfd015e4ef7ed3632cf86b… ┆ [0.00209, 0.072185, … 0.015157… ┆ 2022-05-31 │\n",
       "│ 08b3569cdfd015e4ef7ed3632cf86b… ┆ [0.194512, -0.032053, … 0.1608… ┆ 2022-05-31 │\n",
       "│ 08b3569cdfd015e4ef7ed3632cf86b… ┆ [0.045035, 0.042004, … -0.1125… ┆ 2022-03-31 │\n",
       "│ 08b3569cdfd015e4ef7ed3632cf86b… ┆ [0.330715, -0.023786, … 0.3420… ┆ 2022-03-31 │\n",
       "└─────────────────────────────────┴─────────────────────────────────┴────────────┘"
      ]
     },
     "execution_count": 24,
     "metadata": {},
     "output_type": "execute_result"
    }
   ],
   "source": [
    "dial_test = pl.read_parquet(f'{DATA_PATH}/dial_test.parquet')\n",
    "\n",
    "dial_test = dial_test.with_columns(\n",
    "    pl.col('event_time').dt.strftime(\"%Y-%m-%d\"))\n",
    "dial_test = dial_test.with_columns(\n",
    "    pl.col('event_time').str.to_date(\"%Y-%m-%d\")\n",
    ")\n",
    "dial_test = dial_test.with_columns(pl.col('event_time').dt.month_end().alias('mon'))\n",
    "\n",
    "# Функция для получения последнего дня месяца\n",
    "dial_test = dial_test.drop('event_time')\n",
    "\n",
    "\n",
    "dial_test_feats = dio_aggregate(feats_test, dial_test)\n",
    "\n",
    "dial_test.head(5)"
   ]
  },
  {
   "cell_type": "code",
   "execution_count": 25,
   "metadata": {
    "execution": {
     "iopub.execute_input": "2024-07-04T12:45:34.366893Z",
     "iopub.status.busy": "2024-07-04T12:45:34.366346Z",
     "iopub.status.idle": "2024-07-04T12:46:26.580737Z",
     "shell.execute_reply": "2024-07-04T12:46:26.580082Z",
     "shell.execute_reply.started": "2024-07-04T12:45:34.366869Z"
    },
    "tags": []
   },
   "outputs": [],
   "source": [
    "# Создание агрегатов по геоданным\n",
    "geo_test_feats = geo_aggregate(feats_test, geo_test)"
   ]
  },
  {
   "cell_type": "code",
   "execution_count": 26,
   "metadata": {
    "execution": {
     "iopub.execute_input": "2024-07-04T12:46:26.582131Z",
     "iopub.status.busy": "2024-07-04T12:46:26.581540Z",
     "iopub.status.idle": "2024-07-04T12:46:27.968645Z",
     "shell.execute_reply": "2024-07-04T12:46:27.967968Z",
     "shell.execute_reply.started": "2024-07-04T12:46:26.582107Z"
    },
    "tags": []
   },
   "outputs": [],
   "source": [
    "target_test = target_test.to_pandas()\n",
    "feats_test = feats_test.to_pandas()\n",
    "geo_test_feats = geo_test_feats.to_pandas()\n",
    "dial_test_feats = dial_test_feats.to_pandas()"
   ]
  },
  {
   "cell_type": "code",
   "execution_count": 37,
   "metadata": {
    "execution": {
     "iopub.execute_input": "2024-07-04T12:50:23.432227Z",
     "iopub.status.busy": "2024-07-04T12:50:23.431421Z",
     "iopub.status.idle": "2024-07-04T12:50:26.241634Z",
     "shell.execute_reply": "2024-07-04T12:50:26.240870Z",
     "shell.execute_reply.started": "2024-07-04T12:50:23.432201Z"
    },
    "tags": []
   },
   "outputs": [],
   "source": [
    "# target_test = target_test.drop('__index_level_0__')\n",
    "test_data = target_test.merge(feats_test, how='left', on = ['client_id','mon'])\n",
    "test_data = test_data.merge(geo_test_feats, how='left', on = ['client_id','mon'])\n",
    "test_data = test_data.merge(dial_test_feats, how='left', on = ['client_id','mon'])\n"
   ]
  },
  {
   "cell_type": "code",
   "execution_count": 38,
   "metadata": {
    "execution": {
     "iopub.execute_input": "2024-07-04T12:50:29.639886Z",
     "iopub.status.busy": "2024-07-04T12:50:29.639093Z",
     "iopub.status.idle": "2024-07-04T12:50:29.771168Z",
     "shell.execute_reply": "2024-07-04T12:50:29.770450Z",
     "shell.execute_reply.started": "2024-07-04T12:50:29.639858Z"
    },
    "id": "0hGwuXmBbNY3",
    "tags": []
   },
   "outputs": [
    {
     "data": {
      "text/html": [
       "<div>\n",
       "<style scoped>\n",
       "    .dataframe tbody tr th:only-of-type {\n",
       "        vertical-align: middle;\n",
       "    }\n",
       "\n",
       "    .dataframe tbody tr th {\n",
       "        vertical-align: top;\n",
       "    }\n",
       "\n",
       "    .dataframe thead th {\n",
       "        text-align: right;\n",
       "    }\n",
       "</style>\n",
       "<table border=\"1\" class=\"dataframe\">\n",
       "  <thead>\n",
       "    <tr style=\"text-align: right;\">\n",
       "      <th></th>\n",
       "      <th>mon</th>\n",
       "      <th>target_1</th>\n",
       "      <th>target_2</th>\n",
       "      <th>target_3</th>\n",
       "      <th>target_4</th>\n",
       "      <th>client_id</th>\n",
       "      <th>sum_amount</th>\n",
       "      <th>max_amount</th>\n",
       "      <th>min_amount</th>\n",
       "      <th>mean_amount</th>\n",
       "      <th>count_x</th>\n",
       "      <th>count_y</th>\n",
       "    </tr>\n",
       "  </thead>\n",
       "  <tbody>\n",
       "    <tr>\n",
       "      <th>0</th>\n",
       "      <td>2022-05-31</td>\n",
       "      <td>0</td>\n",
       "      <td>0</td>\n",
       "      <td>0</td>\n",
       "      <td>0</td>\n",
       "      <td>2b7ff0c1c99cefe259ed83c5dfa0a403f2cbc88032b671...</td>\n",
       "      <td>1.113104e+08</td>\n",
       "      <td>9.398446e+06</td>\n",
       "      <td>4.911704</td>\n",
       "      <td>3.698021e+05</td>\n",
       "      <td>NaN</td>\n",
       "      <td>NaN</td>\n",
       "    </tr>\n",
       "    <tr>\n",
       "      <th>1</th>\n",
       "      <td>2022-05-31</td>\n",
       "      <td>0</td>\n",
       "      <td>0</td>\n",
       "      <td>0</td>\n",
       "      <td>0</td>\n",
       "      <td>0433d23e224b7a520656da6181efadb8d556bb293158c9...</td>\n",
       "      <td>NaN</td>\n",
       "      <td>NaN</td>\n",
       "      <td>NaN</td>\n",
       "      <td>NaN</td>\n",
       "      <td>1140.0</td>\n",
       "      <td>NaN</td>\n",
       "    </tr>\n",
       "    <tr>\n",
       "      <th>2</th>\n",
       "      <td>2022-04-30</td>\n",
       "      <td>0</td>\n",
       "      <td>0</td>\n",
       "      <td>0</td>\n",
       "      <td>0</td>\n",
       "      <td>f2ce8b292e5f9f778f3e20db7608ac76dc8812113a2631...</td>\n",
       "      <td>NaN</td>\n",
       "      <td>NaN</td>\n",
       "      <td>NaN</td>\n",
       "      <td>NaN</td>\n",
       "      <td>94.0</td>\n",
       "      <td>NaN</td>\n",
       "    </tr>\n",
       "    <tr>\n",
       "      <th>3</th>\n",
       "      <td>2022-10-31</td>\n",
       "      <td>0</td>\n",
       "      <td>0</td>\n",
       "      <td>0</td>\n",
       "      <td>0</td>\n",
       "      <td>4f807e8b163c653bcaeff9f925983568f4c3e6b1a1f231...</td>\n",
       "      <td>1.257907e+08</td>\n",
       "      <td>7.485376e+06</td>\n",
       "      <td>0.334257</td>\n",
       "      <td>2.500808e+05</td>\n",
       "      <td>407.0</td>\n",
       "      <td>NaN</td>\n",
       "    </tr>\n",
       "    <tr>\n",
       "      <th>4</th>\n",
       "      <td>2022-10-31</td>\n",
       "      <td>0</td>\n",
       "      <td>0</td>\n",
       "      <td>0</td>\n",
       "      <td>0</td>\n",
       "      <td>64369f6f8ae1b719332ee1bfb2b454e642b2053d2c9b8a...</td>\n",
       "      <td>5.621085e+07</td>\n",
       "      <td>3.044801e+07</td>\n",
       "      <td>5007.330566</td>\n",
       "      <td>4.323912e+06</td>\n",
       "      <td>NaN</td>\n",
       "      <td>NaN</td>\n",
       "    </tr>\n",
       "    <tr>\n",
       "      <th>...</th>\n",
       "      <td>...</td>\n",
       "      <td>...</td>\n",
       "      <td>...</td>\n",
       "      <td>...</td>\n",
       "      <td>...</td>\n",
       "      <td>...</td>\n",
       "      <td>...</td>\n",
       "      <td>...</td>\n",
       "      <td>...</td>\n",
       "      <td>...</td>\n",
       "      <td>...</td>\n",
       "      <td>...</td>\n",
       "    </tr>\n",
       "    <tr>\n",
       "      <th>1407666</th>\n",
       "      <td>2022-10-31</td>\n",
       "      <td>0</td>\n",
       "      <td>0</td>\n",
       "      <td>0</td>\n",
       "      <td>0</td>\n",
       "      <td>10720d45fe5c441e85eb7ef5271e620be56edb2de87dc2...</td>\n",
       "      <td>9.021857e+05</td>\n",
       "      <td>1.135340e+05</td>\n",
       "      <td>382.662750</td>\n",
       "      <td>3.222092e+04</td>\n",
       "      <td>302.0</td>\n",
       "      <td>NaN</td>\n",
       "    </tr>\n",
       "    <tr>\n",
       "      <th>1407667</th>\n",
       "      <td>2022-07-31</td>\n",
       "      <td>0</td>\n",
       "      <td>0</td>\n",
       "      <td>0</td>\n",
       "      <td>0</td>\n",
       "      <td>c879fae5376c00b5d56098cfe450c755330e44a351eaa4...</td>\n",
       "      <td>3.925381e+06</td>\n",
       "      <td>8.160497e+05</td>\n",
       "      <td>3408.454346</td>\n",
       "      <td>1.509762e+05</td>\n",
       "      <td>238.0</td>\n",
       "      <td>NaN</td>\n",
       "    </tr>\n",
       "    <tr>\n",
       "      <th>1407668</th>\n",
       "      <td>2022-11-30</td>\n",
       "      <td>0</td>\n",
       "      <td>0</td>\n",
       "      <td>0</td>\n",
       "      <td>0</td>\n",
       "      <td>771c72f26c0036a4fa6d5e965628e32efa94ed141033db...</td>\n",
       "      <td>2.347081e+07</td>\n",
       "      <td>8.353859e+06</td>\n",
       "      <td>325.971436</td>\n",
       "      <td>6.343463e+05</td>\n",
       "      <td>1925.0</td>\n",
       "      <td>NaN</td>\n",
       "    </tr>\n",
       "    <tr>\n",
       "      <th>1407669</th>\n",
       "      <td>2022-10-31</td>\n",
       "      <td>0</td>\n",
       "      <td>0</td>\n",
       "      <td>0</td>\n",
       "      <td>0</td>\n",
       "      <td>c3f8a8f4ff091e711ac102c77f46ec309b5ec27b3a0ed3...</td>\n",
       "      <td>4.231403e+08</td>\n",
       "      <td>4.087177e+07</td>\n",
       "      <td>1.427865</td>\n",
       "      <td>7.735655e+05</td>\n",
       "      <td>111.0</td>\n",
       "      <td>2.0</td>\n",
       "    </tr>\n",
       "    <tr>\n",
       "      <th>1407670</th>\n",
       "      <td>2022-05-31</td>\n",
       "      <td>0</td>\n",
       "      <td>0</td>\n",
       "      <td>0</td>\n",
       "      <td>0</td>\n",
       "      <td>c1303cfaeb348871e53ecdb5113a9837da23bd60af4763...</td>\n",
       "      <td>NaN</td>\n",
       "      <td>NaN</td>\n",
       "      <td>NaN</td>\n",
       "      <td>NaN</td>\n",
       "      <td>NaN</td>\n",
       "      <td>NaN</td>\n",
       "    </tr>\n",
       "  </tbody>\n",
       "</table>\n",
       "<p>1407671 rows × 12 columns</p>\n",
       "</div>"
      ],
      "text/plain": [
       "               mon  target_1  target_2  ...   mean_amount  count_x count_y\n",
       "0       2022-05-31         0         0  ...  3.698021e+05      NaN     NaN\n",
       "1       2022-05-31         0         0  ...           NaN   1140.0     NaN\n",
       "2       2022-04-30         0         0  ...           NaN     94.0     NaN\n",
       "3       2022-10-31         0         0  ...  2.500808e+05    407.0     NaN\n",
       "4       2022-10-31         0         0  ...  4.323912e+06      NaN     NaN\n",
       "...            ...       ...       ...  ...           ...      ...     ...\n",
       "1407666 2022-10-31         0         0  ...  3.222092e+04    302.0     NaN\n",
       "1407667 2022-07-31         0         0  ...  1.509762e+05    238.0     NaN\n",
       "1407668 2022-11-30         0         0  ...  6.343463e+05   1925.0     NaN\n",
       "1407669 2022-10-31         0         0  ...  7.735655e+05    111.0     2.0\n",
       "1407670 2022-05-31         0         0  ...           NaN      NaN     NaN\n",
       "\n",
       "[1407671 rows x 12 columns]"
      ]
     },
     "execution_count": 38,
     "metadata": {},
     "output_type": "execute_result"
    }
   ],
   "source": [
    "test_data = test_data.drop(['__index_level_0__'], axis=1)\n",
    "test_data"
   ]
  },
  {
   "cell_type": "code",
   "execution_count": 39,
   "metadata": {
    "execution": {
     "iopub.execute_input": "2024-07-04T12:51:04.414387Z",
     "iopub.status.busy": "2024-07-04T12:51:04.413520Z",
     "iopub.status.idle": "2024-07-04T12:51:04.704251Z",
     "shell.execute_reply": "2024-07-04T12:51:04.703586Z",
     "shell.execute_reply.started": "2024-07-04T12:51:04.414358Z"
    },
    "tags": []
   },
   "outputs": [
    {
     "data": {
      "text/html": [
       "<div>\n",
       "<style scoped>\n",
       "    .dataframe tbody tr th:only-of-type {\n",
       "        vertical-align: middle;\n",
       "    }\n",
       "\n",
       "    .dataframe tbody tr th {\n",
       "        vertical-align: top;\n",
       "    }\n",
       "\n",
       "    .dataframe thead th {\n",
       "        text-align: right;\n",
       "    }\n",
       "</style>\n",
       "<table border=\"1\" class=\"dataframe\">\n",
       "  <thead>\n",
       "    <tr style=\"text-align: right;\">\n",
       "      <th></th>\n",
       "      <th>mon</th>\n",
       "      <th>target_1</th>\n",
       "      <th>target_2</th>\n",
       "      <th>target_3</th>\n",
       "      <th>target_4</th>\n",
       "      <th>client_id</th>\n",
       "      <th>sum_amount</th>\n",
       "      <th>max_amount</th>\n",
       "      <th>min_amount</th>\n",
       "      <th>mean_amount</th>\n",
       "      <th>count_x</th>\n",
       "      <th>count_y</th>\n",
       "    </tr>\n",
       "  </thead>\n",
       "  <tbody>\n",
       "    <tr>\n",
       "      <th>0</th>\n",
       "      <td>0</td>\n",
       "      <td>0</td>\n",
       "      <td>0</td>\n",
       "      <td>0</td>\n",
       "      <td>0</td>\n",
       "      <td>0</td>\n",
       "      <td>111310440.0</td>\n",
       "      <td>9398446.0</td>\n",
       "      <td>4.911704</td>\n",
       "      <td>3.698021e+05</td>\n",
       "      <td>NaN</td>\n",
       "      <td>NaN</td>\n",
       "    </tr>\n",
       "    <tr>\n",
       "      <th>1</th>\n",
       "      <td>0</td>\n",
       "      <td>0</td>\n",
       "      <td>0</td>\n",
       "      <td>0</td>\n",
       "      <td>0</td>\n",
       "      <td>1</td>\n",
       "      <td>NaN</td>\n",
       "      <td>NaN</td>\n",
       "      <td>NaN</td>\n",
       "      <td>NaN</td>\n",
       "      <td>1140.0</td>\n",
       "      <td>NaN</td>\n",
       "    </tr>\n",
       "    <tr>\n",
       "      <th>2</th>\n",
       "      <td>1</td>\n",
       "      <td>0</td>\n",
       "      <td>0</td>\n",
       "      <td>0</td>\n",
       "      <td>0</td>\n",
       "      <td>2</td>\n",
       "      <td>NaN</td>\n",
       "      <td>NaN</td>\n",
       "      <td>NaN</td>\n",
       "      <td>NaN</td>\n",
       "      <td>94.0</td>\n",
       "      <td>NaN</td>\n",
       "    </tr>\n",
       "    <tr>\n",
       "      <th>3</th>\n",
       "      <td>2</td>\n",
       "      <td>0</td>\n",
       "      <td>0</td>\n",
       "      <td>0</td>\n",
       "      <td>0</td>\n",
       "      <td>3</td>\n",
       "      <td>125790664.0</td>\n",
       "      <td>7485375.5</td>\n",
       "      <td>0.334257</td>\n",
       "      <td>2.500808e+05</td>\n",
       "      <td>407.0</td>\n",
       "      <td>NaN</td>\n",
       "    </tr>\n",
       "    <tr>\n",
       "      <th>4</th>\n",
       "      <td>2</td>\n",
       "      <td>0</td>\n",
       "      <td>0</td>\n",
       "      <td>0</td>\n",
       "      <td>0</td>\n",
       "      <td>4</td>\n",
       "      <td>56210852.0</td>\n",
       "      <td>30448006.0</td>\n",
       "      <td>5007.330566</td>\n",
       "      <td>4.323912e+06</td>\n",
       "      <td>NaN</td>\n",
       "      <td>NaN</td>\n",
       "    </tr>\n",
       "  </tbody>\n",
       "</table>\n",
       "</div>"
      ],
      "text/plain": [
       "   mon  target_1  target_2  ...   mean_amount  count_x  count_y\n",
       "0    0         0         0  ...  3.698021e+05      NaN      NaN\n",
       "1    0         0         0  ...           NaN   1140.0      NaN\n",
       "2    1         0         0  ...           NaN     94.0      NaN\n",
       "3    2         0         0  ...  2.500808e+05    407.0      NaN\n",
       "4    2         0         0  ...  4.323912e+06      NaN      NaN\n",
       "\n",
       "[5 rows x 12 columns]"
      ]
     },
     "execution_count": 39,
     "metadata": {},
     "output_type": "execute_result"
    }
   ],
   "source": [
    "# df_test = df_test.to_pandas()\n",
    "for object_ in  objects:\n",
    "    test_data[object_] = encoding(test_data[object_])\n",
    "test_data.head(5)"
   ]
  },
  {
   "cell_type": "code",
   "execution_count": 59,
   "metadata": {
    "execution": {
     "iopub.execute_input": "2024-07-04T13:21:07.758211Z",
     "iopub.status.busy": "2024-07-04T13:21:07.757223Z",
     "iopub.status.idle": "2024-07-04T13:21:07.766656Z",
     "shell.execute_reply": "2024-07-04T13:21:07.766096Z",
     "shell.execute_reply.started": "2024-07-04T13:21:07.758183Z"
    },
    "tags": []
   },
   "outputs": [
    {
     "name": "stdout",
     "output_type": "stream",
     "text": [
      "(1407671, 12)\n",
      "(2049336, 12)\n"
     ]
    }
   ],
   "source": [
    "print(test_data.shape)\n",
    "print(train_data.shape)"
   ]
  },
  {
   "cell_type": "code",
   "execution_count": 72,
   "metadata": {
    "execution": {
     "iopub.execute_input": "2024-07-04T13:35:20.838268Z",
     "iopub.status.busy": "2024-07-04T13:35:20.837281Z",
     "iopub.status.idle": "2024-07-04T13:35:20.878990Z",
     "shell.execute_reply": "2024-07-04T13:35:20.878313Z",
     "shell.execute_reply.started": "2024-07-04T13:35:20.838237Z"
    }
   },
   "outputs": [
    {
     "data": {
      "text/plain": [
       "(1407671, 8)"
      ]
     },
     "execution_count": 72,
     "metadata": {},
     "output_type": "execute_result"
    }
   ],
   "source": [
    "test_data = test_data.drop(columns=[f'target_{i}' for i in range(1, 5)])\n",
    "test_data.shape"
   ]
  },
  {
   "cell_type": "code",
   "execution_count": 74,
   "metadata": {
    "execution": {
     "iopub.execute_input": "2024-07-04T13:35:44.735902Z",
     "iopub.status.busy": "2024-07-04T13:35:44.735116Z",
     "iopub.status.idle": "2024-07-04T13:35:53.845146Z",
     "shell.execute_reply": "2024-07-04T13:35:53.844474Z",
     "shell.execute_reply.started": "2024-07-04T13:35:44.735870Z"
    },
    "id": "Bgez7MBEbPBy",
    "tags": []
   },
   "outputs": [],
   "source": [
    "scores = []\n",
    "\n",
    "for t in range(1, 5):\n",
    "    target_col = f'target_{t}'\n",
    "    score = pd.Series(models[target_col].predict(test_data))\n",
    "    scores.append(score)\n",
    "\n",
    "scores = pd.concat(scores, axis=1)\n",
    "scores['client_id'] = test_data.reset_index().client_id\n",
    "scores_test = scores.rename(columns={0: 'target_1', 1: 'target_2', 2: 'target_3', 3: 'target_4'})"
   ]
  },
  {
   "cell_type": "code",
   "execution_count": 79,
   "metadata": {
    "colab": {
     "base_uri": "https://localhost:8080/",
     "height": 142
    },
    "execution": {
     "iopub.execute_input": "2024-07-04T13:39:53.611347Z",
     "iopub.status.busy": "2024-07-04T13:39:53.610453Z",
     "iopub.status.idle": "2024-07-04T13:39:53.642050Z",
     "shell.execute_reply": "2024-07-04T13:39:53.641467Z",
     "shell.execute_reply.started": "2024-07-04T13:39:53.611311Z"
    },
    "id": "cv_FoWlCbQt4",
    "outputId": "2541b340-861a-4cae-8792-9abd3c2d283f",
    "tags": []
   },
   "outputs": [
    {
     "data": {
      "text/html": [
       "<div>\n",
       "<style scoped>\n",
       "    .dataframe tbody tr th:only-of-type {\n",
       "        vertical-align: middle;\n",
       "    }\n",
       "\n",
       "    .dataframe tbody tr th {\n",
       "        vertical-align: top;\n",
       "    }\n",
       "\n",
       "    .dataframe thead th {\n",
       "        text-align: right;\n",
       "    }\n",
       "</style>\n",
       "<table border=\"1\" class=\"dataframe\">\n",
       "  <thead>\n",
       "    <tr style=\"text-align: right;\">\n",
       "      <th></th>\n",
       "      <th>target_1</th>\n",
       "      <th>target_2</th>\n",
       "      <th>target_3</th>\n",
       "      <th>target_4</th>\n",
       "      <th>client_id</th>\n",
       "    </tr>\n",
       "  </thead>\n",
       "  <tbody>\n",
       "    <tr>\n",
       "      <th>0</th>\n",
       "      <td>0.022673</td>\n",
       "      <td>0.005911</td>\n",
       "      <td>0.020586</td>\n",
       "      <td>0.010568</td>\n",
       "      <td>0</td>\n",
       "    </tr>\n",
       "    <tr>\n",
       "      <th>1</th>\n",
       "      <td>0.003129</td>\n",
       "      <td>0.000631</td>\n",
       "      <td>0.000529</td>\n",
       "      <td>0.000806</td>\n",
       "      <td>1</td>\n",
       "    </tr>\n",
       "    <tr>\n",
       "      <th>2</th>\n",
       "      <td>0.003129</td>\n",
       "      <td>0.000631</td>\n",
       "      <td>0.000560</td>\n",
       "      <td>0.000806</td>\n",
       "      <td>2</td>\n",
       "    </tr>\n",
       "    <tr>\n",
       "      <th>3</th>\n",
       "      <td>0.040583</td>\n",
       "      <td>0.017135</td>\n",
       "      <td>0.043626</td>\n",
       "      <td>0.020874</td>\n",
       "      <td>3</td>\n",
       "    </tr>\n",
       "    <tr>\n",
       "      <th>4</th>\n",
       "      <td>0.005491</td>\n",
       "      <td>0.001757</td>\n",
       "      <td>0.004643</td>\n",
       "      <td>0.002436</td>\n",
       "      <td>4</td>\n",
       "    </tr>\n",
       "    <tr>\n",
       "      <th>...</th>\n",
       "      <td>...</td>\n",
       "      <td>...</td>\n",
       "      <td>...</td>\n",
       "      <td>...</td>\n",
       "      <td>...</td>\n",
       "    </tr>\n",
       "    <tr>\n",
       "      <th>1407666</th>\n",
       "      <td>0.009844</td>\n",
       "      <td>0.000423</td>\n",
       "      <td>0.006700</td>\n",
       "      <td>0.005175</td>\n",
       "      <td>135558</td>\n",
       "    </tr>\n",
       "    <tr>\n",
       "      <th>1407667</th>\n",
       "      <td>0.003753</td>\n",
       "      <td>0.000658</td>\n",
       "      <td>0.002297</td>\n",
       "      <td>0.001968</td>\n",
       "      <td>2142</td>\n",
       "    </tr>\n",
       "    <tr>\n",
       "      <th>1407668</th>\n",
       "      <td>0.003805</td>\n",
       "      <td>0.001365</td>\n",
       "      <td>0.003950</td>\n",
       "      <td>0.004059</td>\n",
       "      <td>135482</td>\n",
       "    </tr>\n",
       "    <tr>\n",
       "      <th>1407669</th>\n",
       "      <td>0.054534</td>\n",
       "      <td>0.015283</td>\n",
       "      <td>0.078992</td>\n",
       "      <td>0.019330</td>\n",
       "      <td>1476</td>\n",
       "    </tr>\n",
       "    <tr>\n",
       "      <th>1407670</th>\n",
       "      <td>0.002115</td>\n",
       "      <td>0.000737</td>\n",
       "      <td>0.000486</td>\n",
       "      <td>0.000728</td>\n",
       "      <td>350</td>\n",
       "    </tr>\n",
       "  </tbody>\n",
       "</table>\n",
       "<p>1407671 rows × 5 columns</p>\n",
       "</div>"
      ],
      "text/plain": [
       "         target_1  target_2  target_3  target_4  client_id\n",
       "0        0.022673  0.005911  0.020586  0.010568          0\n",
       "1        0.003129  0.000631  0.000529  0.000806          1\n",
       "2        0.003129  0.000631  0.000560  0.000806          2\n",
       "3        0.040583  0.017135  0.043626  0.020874          3\n",
       "4        0.005491  0.001757  0.004643  0.002436          4\n",
       "...           ...       ...       ...       ...        ...\n",
       "1407666  0.009844  0.000423  0.006700  0.005175     135558\n",
       "1407667  0.003753  0.000658  0.002297  0.001968       2142\n",
       "1407668  0.003805  0.001365  0.003950  0.004059     135482\n",
       "1407669  0.054534  0.015283  0.078992  0.019330       1476\n",
       "1407670  0.002115  0.000737  0.000486  0.000728        350\n",
       "\n",
       "[1407671 rows x 5 columns]"
      ]
     },
     "execution_count": 79,
     "metadata": {},
     "output_type": "execute_result"
    }
   ],
   "source": [
    "scores_test"
   ]
  },
  {
   "cell_type": "code",
   "execution_count": 81,
   "metadata": {
    "colab": {
     "base_uri": "https://localhost:8080/"
    },
    "execution": {
     "iopub.execute_input": "2024-07-04T13:43:53.604742Z",
     "iopub.status.busy": "2024-07-04T13:43:53.603938Z",
     "iopub.status.idle": "2024-07-04T13:43:53.695369Z",
     "shell.execute_reply": "2024-07-04T13:43:53.694702Z",
     "shell.execute_reply.started": "2024-07-04T13:43:53.604712Z"
    },
    "id": "5QlqZYg4bR9j",
    "outputId": "934ca84f-813e-4b8e-d2d7-056732623ccc",
    "tags": []
   },
   "outputs": [
    {
     "data": {
      "text/html": [
       "<div>\n",
       "<style scoped>\n",
       "    .dataframe tbody tr th:only-of-type {\n",
       "        vertical-align: middle;\n",
       "    }\n",
       "\n",
       "    .dataframe tbody tr th {\n",
       "        vertical-align: top;\n",
       "    }\n",
       "\n",
       "    .dataframe thead th {\n",
       "        text-align: right;\n",
       "    }\n",
       "</style>\n",
       "<table border=\"1\" class=\"dataframe\">\n",
       "  <thead>\n",
       "    <tr style=\"text-align: right;\">\n",
       "      <th></th>\n",
       "      <th>client_id</th>\n",
       "    </tr>\n",
       "  </thead>\n",
       "  <tbody>\n",
       "    <tr>\n",
       "      <th>0</th>\n",
       "      <td>03478d5f75a2b651bfd3ae66836b0a54313d1cea05d75e...</td>\n",
       "    </tr>\n",
       "    <tr>\n",
       "      <th>1</th>\n",
       "      <td>4bf106c9764392df0850cd907daa93e97dad7df8b35cb9...</td>\n",
       "    </tr>\n",
       "    <tr>\n",
       "      <th>2</th>\n",
       "      <td>4c9f58011f50bef4ea99b4f22f5a3264ed1cfb60d23b9f...</td>\n",
       "    </tr>\n",
       "    <tr>\n",
       "      <th>3</th>\n",
       "      <td>51d17a1af833d5640f5402d450bdf16dea81329a73648d...</td>\n",
       "    </tr>\n",
       "    <tr>\n",
       "      <th>4</th>\n",
       "      <td>52c6fd670cfd93f9075fbdd580d3d4819afa2661a39253...</td>\n",
       "    </tr>\n",
       "    <tr>\n",
       "      <th>...</th>\n",
       "      <td>...</td>\n",
       "    </tr>\n",
       "    <tr>\n",
       "      <th>140483</th>\n",
       "      <td>c6041ce381f3df521d1dae3350ccf9b7a5c295270aaa65...</td>\n",
       "    </tr>\n",
       "    <tr>\n",
       "      <th>140484</th>\n",
       "      <td>c4995db29ee447c347d7b92619350762b26c93500b90ce...</td>\n",
       "    </tr>\n",
       "    <tr>\n",
       "      <th>140485</th>\n",
       "      <td>c45249a15c44bde22eec62b6881983769cd86bc6958cac...</td>\n",
       "    </tr>\n",
       "    <tr>\n",
       "      <th>140486</th>\n",
       "      <td>cc92973ca2f42eab12d0af7bc64a5489691af4a135f42f...</td>\n",
       "    </tr>\n",
       "    <tr>\n",
       "      <th>140487</th>\n",
       "      <td>7baeea5ee9d1d996fbe9e6438aa54e458c9bf0b893b5d1...</td>\n",
       "    </tr>\n",
       "  </tbody>\n",
       "</table>\n",
       "<p>140488 rows × 1 columns</p>\n",
       "</div>"
      ],
      "text/plain": [
       "                                                client_id\n",
       "0       03478d5f75a2b651bfd3ae66836b0a54313d1cea05d75e...\n",
       "1       4bf106c9764392df0850cd907daa93e97dad7df8b35cb9...\n",
       "2       4c9f58011f50bef4ea99b4f22f5a3264ed1cfb60d23b9f...\n",
       "3       51d17a1af833d5640f5402d450bdf16dea81329a73648d...\n",
       "4       52c6fd670cfd93f9075fbdd580d3d4819afa2661a39253...\n",
       "...                                                   ...\n",
       "140483  c6041ce381f3df521d1dae3350ccf9b7a5c295270aaa65...\n",
       "140484  c4995db29ee447c347d7b92619350762b26c93500b90ce...\n",
       "140485  c45249a15c44bde22eec62b6881983769cd86bc6958cac...\n",
       "140486  cc92973ca2f42eab12d0af7bc64a5489691af4a135f42f...\n",
       "140487  7baeea5ee9d1d996fbe9e6438aa54e458c9bf0b893b5d1...\n",
       "\n",
       "[140488 rows x 1 columns]"
      ]
     },
     "execution_count": 81,
     "metadata": {},
     "output_type": "execute_result"
    }
   ],
   "source": [
    "idshnik = pd.read_parquet(f'{DATA_PATH}/test_target_ids.parquet')\n",
    "idshnik"
   ]
  },
  {
   "cell_type": "code",
   "execution_count": 82,
   "metadata": {
    "execution": {
     "iopub.execute_input": "2024-07-04T13:45:17.116164Z",
     "iopub.status.busy": "2024-07-04T13:45:17.115391Z",
     "iopub.status.idle": "2024-07-04T13:45:17.157575Z",
     "shell.execute_reply": "2024-07-04T13:45:17.156744Z",
     "shell.execute_reply.started": "2024-07-04T13:45:17.116135Z"
    }
   },
   "outputs": [],
   "source": [
    "objects = ['client_id']\n",
    "\n",
    "for object_ in  objects:\n",
    "    idshnik[object_] = encoding(idshnik[object_])\n"
   ]
  },
  {
   "cell_type": "code",
   "execution_count": 85,
   "metadata": {
    "execution": {
     "iopub.execute_input": "2024-07-04T13:47:33.141059Z",
     "iopub.status.busy": "2024-07-04T13:47:33.140037Z",
     "iopub.status.idle": "2024-07-04T13:47:33.362736Z",
     "shell.execute_reply": "2024-07-04T13:47:33.361956Z",
     "shell.execute_reply.started": "2024-07-04T13:47:33.141029Z"
    },
    "tags": []
   },
   "outputs": [],
   "source": [
    "# target_ids_submit = pd.read_parquet(f'{DATA_PATH}/test_target_ids.parquet').set_index('client_id')\n",
    "# submission = target_ids_submit.join(scores_test.set_index('client_id'), how='inner')\n",
    "\n",
    "target_ids_submit = idshnik.set_index('client_id')\n",
    "submission = target_ids_submit.join(scores_test.set_index('client_id'), how='inner')"
   ]
  },
  {
   "cell_type": "code",
   "execution_count": 86,
   "metadata": {
    "execution": {
     "iopub.execute_input": "2024-07-04T13:47:35.033303Z",
     "iopub.status.busy": "2024-07-04T13:47:35.032313Z",
     "iopub.status.idle": "2024-07-04T13:47:35.053353Z",
     "shell.execute_reply": "2024-07-04T13:47:35.052683Z",
     "shell.execute_reply.started": "2024-07-04T13:47:35.033274Z"
    }
   },
   "outputs": [
    {
     "data": {
      "text/html": [
       "<div>\n",
       "<style scoped>\n",
       "    .dataframe tbody tr th:only-of-type {\n",
       "        vertical-align: middle;\n",
       "    }\n",
       "\n",
       "    .dataframe tbody tr th {\n",
       "        vertical-align: top;\n",
       "    }\n",
       "\n",
       "    .dataframe thead th {\n",
       "        text-align: right;\n",
       "    }\n",
       "</style>\n",
       "<table border=\"1\" class=\"dataframe\">\n",
       "  <thead>\n",
       "    <tr style=\"text-align: right;\">\n",
       "      <th></th>\n",
       "      <th>target_1</th>\n",
       "      <th>target_2</th>\n",
       "      <th>target_3</th>\n",
       "      <th>target_4</th>\n",
       "    </tr>\n",
       "    <tr>\n",
       "      <th>client_id</th>\n",
       "      <th></th>\n",
       "      <th></th>\n",
       "      <th></th>\n",
       "      <th></th>\n",
       "    </tr>\n",
       "  </thead>\n",
       "  <tbody>\n",
       "    <tr>\n",
       "      <th>0</th>\n",
       "      <td>0.022673</td>\n",
       "      <td>0.005911</td>\n",
       "      <td>0.020586</td>\n",
       "      <td>0.010568</td>\n",
       "    </tr>\n",
       "    <tr>\n",
       "      <th>0</th>\n",
       "      <td>0.021474</td>\n",
       "      <td>0.007238</td>\n",
       "      <td>0.036095</td>\n",
       "      <td>0.009002</td>\n",
       "    </tr>\n",
       "    <tr>\n",
       "      <th>0</th>\n",
       "      <td>0.008283</td>\n",
       "      <td>0.002051</td>\n",
       "      <td>0.013524</td>\n",
       "      <td>0.007354</td>\n",
       "    </tr>\n",
       "    <tr>\n",
       "      <th>0</th>\n",
       "      <td>0.010236</td>\n",
       "      <td>0.004638</td>\n",
       "      <td>0.010972</td>\n",
       "      <td>0.008628</td>\n",
       "    </tr>\n",
       "    <tr>\n",
       "      <th>0</th>\n",
       "      <td>0.011715</td>\n",
       "      <td>0.005145</td>\n",
       "      <td>0.024464</td>\n",
       "      <td>0.008735</td>\n",
       "    </tr>\n",
       "    <tr>\n",
       "      <th>...</th>\n",
       "      <td>...</td>\n",
       "      <td>...</td>\n",
       "      <td>...</td>\n",
       "      <td>...</td>\n",
       "    </tr>\n",
       "    <tr>\n",
       "      <th>140487</th>\n",
       "      <td>0.004610</td>\n",
       "      <td>0.000339</td>\n",
       "      <td>0.002252</td>\n",
       "      <td>0.002105</td>\n",
       "    </tr>\n",
       "    <tr>\n",
       "      <th>140487</th>\n",
       "      <td>0.004610</td>\n",
       "      <td>0.000339</td>\n",
       "      <td>0.002252</td>\n",
       "      <td>0.002155</td>\n",
       "    </tr>\n",
       "    <tr>\n",
       "      <th>140487</th>\n",
       "      <td>0.003475</td>\n",
       "      <td>0.000530</td>\n",
       "      <td>0.001793</td>\n",
       "      <td>0.001583</td>\n",
       "    </tr>\n",
       "    <tr>\n",
       "      <th>140487</th>\n",
       "      <td>0.004940</td>\n",
       "      <td>0.000324</td>\n",
       "      <td>0.003178</td>\n",
       "      <td>0.002767</td>\n",
       "    </tr>\n",
       "    <tr>\n",
       "      <th>140487</th>\n",
       "      <td>0.004633</td>\n",
       "      <td>0.000314</td>\n",
       "      <td>0.001883</td>\n",
       "      <td>0.001941</td>\n",
       "    </tr>\n",
       "  </tbody>\n",
       "</table>\n",
       "<p>1407671 rows × 4 columns</p>\n",
       "</div>"
      ],
      "text/plain": [
       "           target_1  target_2  target_3  target_4\n",
       "client_id                                        \n",
       "0          0.022673  0.005911  0.020586  0.010568\n",
       "0          0.021474  0.007238  0.036095  0.009002\n",
       "0          0.008283  0.002051  0.013524  0.007354\n",
       "0          0.010236  0.004638  0.010972  0.008628\n",
       "0          0.011715  0.005145  0.024464  0.008735\n",
       "...             ...       ...       ...       ...\n",
       "140487     0.004610  0.000339  0.002252  0.002105\n",
       "140487     0.004610  0.000339  0.002252  0.002155\n",
       "140487     0.003475  0.000530  0.001793  0.001583\n",
       "140487     0.004940  0.000324  0.003178  0.002767\n",
       "140487     0.004633  0.000314  0.001883  0.001941\n",
       "\n",
       "[1407671 rows x 4 columns]"
      ]
     },
     "execution_count": 86,
     "metadata": {},
     "output_type": "execute_result"
    }
   ],
   "source": [
    "submission"
   ]
  },
  {
   "cell_type": "code",
   "execution_count": 87,
   "metadata": {
    "execution": {
     "iopub.execute_input": "2024-07-04T13:50:58.005290Z",
     "iopub.status.busy": "2024-07-04T13:50:58.004282Z",
     "iopub.status.idle": "2024-07-04T13:51:04.488658Z",
     "shell.execute_reply": "2024-07-04T13:51:04.487698Z",
     "shell.execute_reply.started": "2024-07-04T13:50:58.005262Z"
    },
    "tags": []
   },
   "outputs": [],
   "source": [
    "\n",
    "submission.to_csv(f'{DATA_PATH}/our_submission.csv', index=False)"
   ]
  },
  {
   "cell_type": "code",
   "execution_count": null,
   "metadata": {},
   "outputs": [],
   "source": []
  }
 ],
 "metadata": {
  "colab": {
   "provenance": []
  },
  "kernelspec": {
   "display_name": "DataSphere Kernel",
   "language": "python",
   "name": "python3"
  },
  "language_info": {
   "codemirror_mode": {
    "name": "ipython",
    "version": 3
   },
   "file_extension": ".py",
   "mimetype": "text/x-python",
   "name": "python",
   "nbconvert_exporter": "python",
   "pygments_lexer": "ipython3",
   "version": "3.10.12"
  }
 },
 "nbformat": 4,
 "nbformat_minor": 4
}
